{
 "cells": [
  {
   "cell_type": "code",
   "execution_count": 1,
   "metadata": {},
   "outputs": [],
   "source": [
    "from selenium import webdriver"
   ]
  },
  {
   "cell_type": "code",
   "execution_count": 12,
   "metadata": {},
   "outputs": [
    {
     "ename": "NameError",
     "evalue": "name 'chromedriver' is not defined",
     "output_type": "error",
     "traceback": [
      "\u001b[1;31m---------------------------------------------------------------------------\u001b[0m",
      "\u001b[1;31mNameError\u001b[0m                                 Traceback (most recent call last)",
      "\u001b[1;32m<ipython-input-12-6cfe9b0aae95>\u001b[0m in \u001b[0;36m<module>\u001b[1;34m\u001b[0m\n\u001b[1;32m----> 1\u001b[1;33m \u001b[0mchrome\u001b[0m \u001b[1;33m=\u001b[0m \u001b[0mwebdriver\u001b[0m\u001b[1;33m.\u001b[0m\u001b[0mchrome\u001b[0m\u001b[1;33m(\u001b[0m\u001b[0mchromedriver\u001b[0m\u001b[1;33m.\u001b[0m\u001b[0mexe\u001b[0m\u001b[1;33m)\u001b[0m\u001b[1;33m\u001b[0m\u001b[1;33m\u001b[0m\u001b[0m\n\u001b[0m",
      "\u001b[1;31mNameError\u001b[0m: name 'chromedriver' is not defined"
     ]
    }
   ],
   "source": [
    "chrome = webdriver.chrome(chromedriver.exe)"
   ]
  },
  {
   "cell_type": "code",
   "execution_count": 48,
   "metadata": {},
   "outputs": [],
   "source": [
    "import sys\n",
    "import time\n",
    "\n",
    "from selenium import webdriver\n",
    "from selenium.common.exceptions import NoSuchElementException\n",
    "\n",
    "\n",
    "\n",
    "# Function for getting user from\n",
    "def new_chat(user_name):\n",
    "    # Selecting the new chat search textbox\n",
    "    new_chat = chrome_browser.find_element_by_xpath('//div[@class=\"ZP8RM\"]')\n",
    "    new_chat.click()\n",
    "\n",
    "    # Enter the name of chat\n",
    "    new_user = chrome_browser.find_element_by_xpath('//div[@class=\"_3u328 copyable-text selectable-text\"]')\n",
    "    new_user.send_keys(user_name)\n",
    "\n",
    "    time.sleep(1)\n",
    "\n",
    "    try:\n",
    "        # Select for the title having user name\n",
    "        user = chrome_browser.find_element_by_xpath('//span[@title=\"{}\"]'.format(user_name))\n",
    "        user.click()\n",
    "    except NoSuchElementException:\n",
    "        print('Given user \"{}\" not found in the contact list'.format(user_name))\n",
    "    except Exception as e:\n",
    "        # Close the browser\n",
    "        chrome_browser.close()\n",
    "        print(e)\n",
    "        sys.exit()\n",
    "\n",
    "\n",
    "if __name__ == '__main__':\n",
    "\n",
    "    options = webdriver.ChromeOptions()\n",
    "    options.add_argument('--user-data-dir=<User Data Path>')\n",
    "    options.add_argument('--profile-directory=Default')\n",
    "\n",
    " \n",
    "   \n",
    "\n"
   ]
  },
  {
   "cell_type": "code",
   "execution_count": 50,
   "metadata": {},
   "outputs": [],
   "source": [
    "   # Register the drive\n",
    "chrome_browser = webdriver.Chrome(executable_path='/Users\\Allizwell\\OneDrive\\Desktop\\ML python\\chromedriver.exe')  # Change the path as per your local dir.\n",
    "chrome_browser.get('https://web.whatsapp.com/')\n"
   ]
  },
  {
   "cell_type": "code",
   "execution_count": null,
   "metadata": {},
   "outputs": [],
   "source": [
    "\n",
    "    for user_name in user_name_list:\n",
    "\n",
    "        try:\n",
    "            # Select for the title having user name\n",
    "            user = chrome_browser.find_element_by_xpath('//span[@title=\"{}\"]'.format(user_name))\n",
    "            user.click()\n",
    "        except NoSuchElementException as se:\n",
    "            new_chat(user_name)\n",
    "\n",
    "        # Typing message into message box\n",
    "        message_box = chrome_browser.find_element_by_xpath('//div[@class=\"_13mgZ\"]')\n",
    "        message_box.send_keys('Hey, I am your whatsapp bot')\n",
    "\n",
    "        # Click on send button\n",
    "        message_box = chrome_browser.find_element_by_xpath('//button[@class=\"_3M-N-\"]')\n",
    "        message_box.click()\n",
    "\n",
    "    chrome_browser.close()"
   ]
  },
  {
   "cell_type": "code",
   "execution_count": null,
   "metadata": {},
   "outputs": [],
   "source": []
  }
 ],
 "metadata": {
  "kernelspec": {
   "display_name": "Python 3",
   "language": "python",
   "name": "python3"
  },
  "language_info": {
   "codemirror_mode": {
    "name": "ipython",
    "version": 3
   },
   "file_extension": ".py",
   "mimetype": "text/x-python",
   "name": "python",
   "nbconvert_exporter": "python",
   "pygments_lexer": "ipython3",
   "version": "3.8.3"
  }
 },
 "nbformat": 4,
 "nbformat_minor": 4
}
